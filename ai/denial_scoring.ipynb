{
 "cells": [
  {
   "cell_type": "code",
   "execution_count": null,
   "id": "b17d1b87",
   "metadata": {
    "vscode": {
     "languageId": "plaintext"
    }
   },
   "outputs": [],
   "source": [
    "# Cell 1: imports and Snowflake connection\n",
    "import pandas as pd\n",
    "import snowflake.connector as sf\n",
    "from sklearn.model_selection import train_test_split\n",
    "from xgboost import XGBClassifier\n",
    "from sklearn.metrics import roc_auc_score, classification_report\n",
    "import joblib\n",
    "import os\n",
    "\n",
    "conn = sf.connect(\n",
    "    user=\"YOUR_USER\",\n",
    "    password=\"YOUR_PASSWORD\",\n",
    "    account=\"YOUR_ACCOUNT\",\n",
    "    warehouse=\"YOUR_WAREHOUSE\",\n",
    "    database=\"RCM_LAB\",\n",
    "    schema=\"PUBLIC\"\n",
    ")\n"
   ]
  },
  {
   "cell_type": "code",
   "execution_count": null,
   "id": "f76a5d78",
   "metadata": {
    "vscode": {
     "languageId": "plaintext"
    }
   },
   "outputs": [],
   "source": [
    "# Cell 2: load feature table\n",
    "query = \"SELECT * FROM CLAIM_FEATURES\"\n",
    "df = pd.read_sql(query, conn)\n",
    "print(df.head())\n"
   ]
  },
  {
   "cell_type": "code",
   "execution_count": null,
   "id": "a3927c5e",
   "metadata": {
    "vscode": {
     "languageId": "plaintext"
    }
   },
   "outputs": [],
   "source": [
    "# Cell 3: prepare features and labels\n",
    "X = pd.get_dummies(df.drop(columns=[\"DENIAL_FLAG\"]))\n",
    "y = df[\"DENIAL_FLAG\"]\n",
    "\n",
    "X_train, X_test, y_train, y_test = train_test_split(\n",
    "    X, y, test_size=0.2, random_state=42, stratify=y\n",
    ")\n",
    "print(X_train.shape, y_train.mean())\n"
   ]
  },
  {
   "cell_type": "code",
   "execution_count": null,
   "id": "af8002fb",
   "metadata": {
    "vscode": {
     "languageId": "plaintext"
    }
   },
   "outputs": [],
   "source": [
    "# Cell 4: model training\n",
    "model = XGBClassifier(\n",
    "    n_estimators=300,\n",
    "    learning_rate=0.05,\n",
    "    max_depth=6,\n",
    "    subsample=0.8,\n",
    "    colsample_bytree=0.8,\n",
    "    random_state=42\n",
    ")\n",
    "model.fit(X_train, y_train)\n"
   ]
  },
  {
   "cell_type": "code",
   "execution_count": null,
   "id": "ee077319",
   "metadata": {
    "vscode": {
     "languageId": "plaintext"
    }
   },
   "outputs": [],
   "source": [
    "# Cell 5: evaluation\n",
    "probs = model.predict_proba(X_test)[:, 1]\n",
    "preds = (probs > 0.5).astype(int)\n",
    "\n",
    "print(\"AUC:\", roc_auc_score(y_test, probs))\n",
    "print(classification_report(y_test, preds))\n"
   ]
  },
  {
   "cell_type": "code",
   "execution_count": null,
   "id": "bd70aa0e",
   "metadata": {
    "vscode": {
     "languageId": "plaintext"
    }
   },
   "outputs": [],
   "source": [
    "# Cell 6: save model locally\n",
    "os.makedirs(\"../models\", exist_ok=True)\n",
    "joblib.dump(model, \"../models/denial_xgb.pkl\")\n"
   ]
  },
  {
   "cell_type": "code",
   "execution_count": null,
   "id": "9a90acd6",
   "metadata": {
    "vscode": {
     "languageId": "plaintext"
    }
   },
   "outputs": [],
   "source": [
    "# Cell 7: optional – push predictions back to Snowflake\n",
    "pred_df = X_test.copy()\n",
    "pred_df[\"PROB_DENIAL\"] = probs\n",
    "pred_df[\"PRED_DENIAL\"] = preds\n",
    "\n",
    "success, nchunks, _ = conn.write_pandas(\n",
    "    pred_df.reset_index(drop=True),\n",
    "    table_name=\"PRED_DENIAL_SCORES\",\n",
    "    database=\"RCM_LAB\",\n",
    "    schema=\"PUBLIC\",\n",
    "    overwrite=True\n",
    ")\n",
    "print(\"Uploaded\", nchunks, \"chunks\")\n"
   ]
  }
 ],
 "metadata": {
  "language_info": {
   "name": "python"
  }
 },
 "nbformat": 4,
 "nbformat_minor": 5
}
