{
 "cells": [
  {
   "cell_type": "markdown",
   "id": "15c110b9",
   "metadata": {},
   "source": [
    "# EDA on 2010 Medicare Beneficiary Summary\n",
    "\n",
    "This notebook explores cost and chronic condition patterns in synthetic Medicare data from 2010. The goal is to identify trends and potential high-impact patient profiles.\n"
   ]
  },
  {
   "cell_type": "code",
   "execution_count": null,
   "id": "d5bd94d4",
   "metadata": {},
   "outputs": [],
   "source": [
    "import pandas as pd\n",
    "import matplotlib.pyplot as plt\n"
   ]
  },
  {
   "cell_type": "markdown",
   "id": "94b8616f",
   "metadata": {},
   "source": [
    "## Load 2010 Beneficiary Data"
   ]
  },
  {
   "cell_type": "code",
   "execution_count": null,
   "id": "fe966ecd",
   "metadata": {},
   "outputs": [],
   "source": [
    "df = pd.read_csv(\"../data/raw/synpuf_sample1/DE1_0_2010_Beneficiary_Summary_File_Sample_1.csv\")\n"
   ]
  },
  {
   "cell_type": "markdown",
   "id": "88c12f77",
   "metadata": {},
   "source": [
    "## Calculate Total Reimbursement Cost\n",
    "Sum inpatient, outpatient, and carrier reimbursements into a single column.\n"
   ]
  },
  {
   "cell_type": "code",
   "execution_count": null,
   "id": "a84654bd",
   "metadata": {},
   "outputs": [],
   "source": [
    "df[\"TOTAL_COST\"] = df[\"MEDREIMB_IP\"] + df[\"MEDREIMB_OP\"] + df[\"MEDREIMB_CAR\"]\n"
   ]
  },
  {
   "cell_type": "markdown",
   "id": "39d87e10",
   "metadata": {},
   "source": [
    "## Distribution of Total Cost per Patient\n"
   ]
  },
  {
   "cell_type": "code",
   "execution_count": null,
   "id": "f09691e1",
   "metadata": {},
   "outputs": [],
   "source": [
    "plt.hist(df[\"TOTAL_COST\"], bins=50)\n",
    "plt.title(\"Total Reimbursement Cost per Patient\")\n",
    "plt.xlabel(\"Cost ($)\")\n",
    "plt.ylabel(\"Count\")\n",
    "plt.show()\n"
   ]
  },
  {
   "cell_type": "markdown",
   "id": "09047643",
   "metadata": {},
   "source": [
    "## Filter Patients in the Top 10% of Total Cost\n"
   ]
  },
  {
   "cell_type": "code",
   "execution_count": null,
   "id": "c68815fc",
   "metadata": {},
   "outputs": [],
   "source": [
    "high_cost_cutoff = df[\"TOTAL_COST\"].quantile(0.9)\n",
    "high_cost_df = df[df[\"TOTAL_COST\"] >= high_cost_cutoff]\n",
    "print(f\"High-cost patients: {len(high_cost_df)}\")\n"
   ]
  },
  {
   "cell_type": "markdown",
   "id": "c502db84",
   "metadata": {},
   "source": [
    "## Count Chronic Conditions per Patient\n",
    "Each chronic condition is a binary flag. We sum them to get a total burden score.\n"
   ]
  },
  {
   "cell_type": "code",
   "execution_count": null,
   "id": "ee747768",
   "metadata": {},
   "outputs": [],
   "source": [
    "chronic_cols = [col for col in df.columns if col.startswith(\"SP_\")]\n",
    "df_chronic = df[[\"DESYNPUF_ID\", \"TOTAL_COST\"] + chronic_cols]\n",
    "df_chronic[\"CHRONIC_COUNT\"] = df_chronic[chronic_cols].sum(axis=1)\n"
   ]
  },
  {
   "cell_type": "markdown",
   "id": "6f6bcba4",
   "metadata": {},
   "source": [
    "## Scatter Plot: Chronic Conditions vs. Total Cost\n"
   ]
  },
  {
   "cell_type": "code",
   "execution_count": null,
   "id": "237d2061",
   "metadata": {},
   "outputs": [],
   "source": [
    "plt.scatter(df_chronic[\"CHRONIC_COUNT\"], df_chronic[\"TOTAL_COST\"], alpha=0.5)\n",
    "plt.xlabel(\"Number of Chronic Conditions\")\n",
    "plt.ylabel(\"Total Cost\")\n",
    "plt.title(\"Cost vs. Chronic Conditions\")\n",
    "plt.show()\n"
   ]
  },
  {
   "cell_type": "markdown",
   "id": "12379331",
   "metadata": {},
   "source": [
    "## Create Heuristic-Based Scoring\n",
    "A simple score to surface interesting patient profiles based on cost and chronic indicators.\n"
   ]
  },
  {
   "cell_type": "code",
   "execution_count": null,
   "id": "32f935d2",
   "metadata": {},
   "outputs": [],
   "source": [
    "def heuristic_score(row):\n",
    "    score = 0\n",
    "    if row[\"TOTAL_COST\"] > high_cost_cutoff:\n",
    "        score += 2\n",
    "    if row[\"CHRONIC_COUNT\"] >= 3:\n",
    "        score += 2\n",
    "    if row[\"SP_DIABETES\"] == 1 or row[\"SP_CHF\"] == 1:\n",
    "        score += 1\n",
    "    return score\n",
    "\n",
    "df_chronic[\"SCORE\"] = df_chronic.apply(heuristic_score, axis=1)\n"
   ]
  },
  {
   "cell_type": "markdown",
   "id": "d3c27fd9",
   "metadata": {},
   "source": [
    "## Preview Top-Scoring Profiles\n"
   ]
  },
  {
   "cell_type": "code",
   "execution_count": null,
   "id": "b3e749e2",
   "metadata": {},
   "outputs": [],
   "source": [
    "df_candidates = df_chronic[df_chronic[\"SCORE\"] >= 4]\n",
    "print(f\"Flagged rows: {len(df_candidates)}\")\n",
    "df_candidates.head()\n"
   ]
  },
  {
   "cell_type": "markdown",
   "id": "621e2564",
   "metadata": {},
   "source": [
    "## Save Selected Profiles\n"
   ]
  },
  {
   "cell_type": "code",
   "execution_count": null,
   "id": "f4530316",
   "metadata": {},
   "outputs": [],
   "source": [
    "df_candidates.to_csv(\"../data/ai_opportunity_candidates.csv\", index=False)\n"
   ]
  }
 ],
 "metadata": {
  "kernelspec": {
   "display_name": "rcm-ai",
   "language": "python",
   "name": "python3"
  },
  "language_info": {
   "codemirror_mode": {
    "name": "ipython",
    "version": 3
   },
   "file_extension": ".py",
   "mimetype": "text/x-python",
   "name": "python",
   "nbconvert_exporter": "python",
   "pygments_lexer": "ipython3",
   "version": "3.10.18"
  }
 },
 "nbformat": 4,
 "nbformat_minor": 5
}
